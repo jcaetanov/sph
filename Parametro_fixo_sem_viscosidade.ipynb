{
 "cells": [
  {
   "cell_type": "code",
   "execution_count": null,
   "metadata": {
    "id": "abMaOiEVIlSA"
   },
   "outputs": [],
   "source": []
  },
  {
   "cell_type": "code",
   "execution_count": 21,
   "metadata": {
    "id": "BgpjAZwMXaMp"
   },
   "outputs": [],
   "source": [
    "#Importar biblioteca numpy\n",
    "import numpy as np\n",
    "import math\n",
    "import matplotlib.pyplot as plt\n",
    "import math\n",
    "import matplotlib.pyplot as plt\n",
    "from tqdm import tqdm\n",
    "from random import *\n"
   ]
  },
  {
   "cell_type": "code",
   "execution_count": 22,
   "metadata": {
    "id": "0GrACPGhLvuz"
   },
   "outputs": [],
   "source": [
    "def saveList(myList,filename):\n",
    "    # the filename should mention the extension 'npy'\n",
    "    np.save(filename,myList)"
   ]
  },
  {
   "cell_type": "code",
   "execution_count": 23,
   "metadata": {
    "id": "nJsAiYDHLwVL"
   },
   "outputs": [],
   "source": [
    "def loadList(filename):\n",
    "    # the filename should mention the extension 'npy'\n",
    "    tempNumpyArray=np.load(filename)\n",
    "    return tempNumpyArray.tolist()"
   ]
  },
  {
   "cell_type": "code",
   "execution_count": 24,
   "metadata": {
    "id": "2iBMZfgzXeoA"
   },
   "outputs": [],
   "source": [
    "M=15\n",
    "k=0.1\n",
    "gamma=2\n",
    "dt=0.04\n",
    "nu=1\n",
    "n=1\n",
    "N=1000\n",
    "m=M/N\n",
    "h=0.02/np.sqrt(N/1000)\n",
    "l=3\n",
    "k=0.1\n",
    "rho_0=m/l\n",
    "c_0= np.sqrt(gamma*k*np.power(rho_0, (gamma - 1)))\n",
    "\n",
    "constante=(1)/(6*h)"
   ]
  },
  {
   "cell_type": "code",
   "execution_count": 25,
   "metadata": {
    "id": "2QoCL3Jye1nN"
   },
   "outputs": [],
   "source": [
    "#h=np.zeros(N)\n",
    "#for i in range(N):\n",
    "#  h[i]=0.02"
   ]
  },
  {
   "cell_type": "code",
   "execution_count": 26,
   "metadata": {
    "id": "7MttS0N1_yih"
   },
   "outputs": [],
   "source": [
    "ghost_x=0.04\n",
    "ghost_den=4*m\n",
    "M_ghost=4*m"
   ]
  },
  {
   "cell_type": "code",
   "execution_count": 27,
   "metadata": {
    "id": "436dUeMpXywl"
   },
   "outputs": [],
   "source": [
    "\n",
    "v_phalf=np.zeros((N,1))\n",
    "v=np.zeros((N,1))\n",
    "pos_x=[]\n",
    "pos_y=[]\n",
    "pos=np.zeros((N,1))\n",
    "r=np.zeros((N-1))\n",
    "\n",
    "\n",
    "def posicao():\n",
    "  pos=np.linspace(-1,1,N) #coordenada x\n",
    "  return pos\n",
    "\n",
    "\n",
    "\n",
    "\n",
    "\n",
    "#Linha de pos = particula\n",
    "#Coluna de pos = coordenadas x e y da i-esima particula\n",
    "\n",
    "\n",
    "def modulo_diferenca(vec1,vec2):\n",
    "  dif_x=(vec1-vec2) #coord x\n",
    "  norma=np.sqrt(dif_x**2)\n",
    "  return norma,dif_x\n",
    "  \n",
    "xd=np.linspace(-2,2,100)\n",
    "\n",
    "\n"
   ]
  },
  {
   "cell_type": "code",
   "execution_count": 28,
   "metadata": {
    "colab": {
     "base_uri": "https://localhost:8080/",
     "height": 300
    },
    "id": "Fn-9j51QYD_s",
    "outputId": "cdb633ff-e75b-4df8-bc15-290feeffb7d6"
   },
   "outputs": [
    {
     "name": "stdout",
     "output_type": "stream",
     "text": [
      "0.5641895835477563\n"
     ]
    },
    {
     "data": {
      "text/plain": [
       "[<matplotlib.lines.Line2D at 0x1bfd2c4af48>]"
      ]
     },
     "execution_count": 28,
     "metadata": {},
     "output_type": "execute_result"
    },
    {
     "data": {
      "image/png": "[encoded data removed]",
      "text/plain": [
       "<Figure size 432x288 with 1 Axes>"
      ]
     },
     "metadata": {
      "needs_background": "light"
     },
     "output_type": "display_data"
    }
   ],
   "source": [
    "def kernel(r,h):\n",
    "  #r=norma do r\n",
    "#relação da distância com o valor do kernel aproximado por spline cubica\n",
    "  constante=(1)/(np.sqrt(np.pi)*h)\n",
    "  x=np.sqrt(r**2)\n",
    "  return constante*np.exp(-(x/h)**2)\n",
    "print(kernel(0,1))\n",
    "plt.plot(xd,kernel(xd,1))\n"
   ]
  },
  {
   "cell_type": "code",
   "execution_count": 29,
   "metadata": {
    "colab": {
     "base_uri": "https://localhost:8080/",
     "height": 300
    },
    "id": "pw_RKgEKYO-O",
    "outputId": "b1a1ab15-dfec-46c1-8dec-0f9be30da634"
   },
   "outputs": [
    {
     "name": "stdout",
     "output_type": "stream",
     "text": [
      "-0.0\n"
     ]
    },
    {
     "data": {
      "text/plain": [
       "[<matplotlib.lines.Line2D at 0x1bfd2cb4b08>]"
      ]
     },
     "execution_count": 29,
     "metadata": {},
     "output_type": "execute_result"
    },
    {
     "data": {
      "image/png": "[encoded data removed]",
      "text/plain": [
       "<Figure size 432x288 with 1 Axes>"
      ]
     },
     "metadata": {
      "needs_background": "light"
     },
     "output_type": "display_data"
    }
   ],
   "source": [
    "def Grad_Kern(r,h):\n",
    "  #r=norma do r\n",
    "  #r1=diferença entre ri e rj (delta(r))\n",
    "#relação da distância com o valor do kernel aproximado por spline cubica\n",
    "    Constante = (1)/(6*h) \n",
    "    norm = np.linalg.norm(r)\n",
    "    return (-1*(2*np.exp(-(r**2/h**2))*r)/(h**3*np.sqrt(np.pi)))\n",
    "\n",
    "print(Grad_Kern(0,1))\n",
    "plt.plot(xd,Grad_Kern(xd,1))"
   ]
  },
  {
   "cell_type": "code",
   "execution_count": 30,
   "metadata": {
    "id": "F2-NBZ84YaX7"
   },
   "outputs": [],
   "source": [
    "def Densidade(r,h):\n",
    "    rhow =[]\n",
    "    for i in range(len(r)): \n",
    "        \n",
    "       \n",
    "        rhow.append(m*kernel(0,h))\n",
    "    for i in range(len(r)):\n",
    "      #for k in range(len(ghost_x)):\n",
    "        for j in range(i+1,len(r)):            \n",
    "            norma,dif_x=modulo_diferenca(r[i],r[j])\n",
    "            rhoij = m*kernel(norma,h)\n",
    "            rhow[i] += rhoij \n",
    "            rhow[j] += rhoij\n",
    "    return np.array(rhow)\n"
   ]
  },
  {
   "cell_type": "code",
   "execution_count": 31,
   "metadata": {
    "id": "DNbOHPRHgSOB"
   },
   "outputs": [],
   "source": [
    "def dens(x, t, gamma, c_0, k):\n",
    "  \n",
    "  \n",
    "  a = (2*c_0/(gamma + 1)) - ((gamma - 1)*x/((gamma + 1)*t ))\n",
    "  ll = (1/(k*gamma))*np.power(a, 2)\n",
    "  rhorho0 = np.power(ll, (1/(gamma - 1)))/rho_0\n",
    "  return rhorho0"
   ]
  },
  {
   "cell_type": "code",
   "execution_count": 32,
   "metadata": {
    "id": "_b351OJ0gdG4"
   },
   "outputs": [],
   "source": [
    "def vels(x, t, gamma, c_0, k):\n",
    "  vc0 = np.divide(2, (gamma + 1)*c_0)*(c_0 + (x/t))\n",
    "  return vc0"
   ]
  },
  {
   "cell_type": "code",
   "execution_count": 33,
   "metadata": {
    "id": "qcnD41rOwBZw"
   },
   "outputs": [],
   "source": [
    "def coe_visc(visc_ij,dij,vij,h,rhoij):\n",
    "  if (visc_ij<0):\n",
    "     visc= (-1)*(visc_ij*h/(dij**2+(k*h**2)))*(0.5+0*(visc_ij*h/(dij**2+(k*h**2))))\n",
    "     return visc\n",
    "  if (visc_ij>=0):\n",
    "     visc=0\n",
    "     return visc"
   ]
  },
  {
   "cell_type": "code",
   "execution_count": 34,
   "metadata": {
    "id": "eK9WrtYKYeWH"
   },
   "outputs": [],
   "source": [
    "def atualiza_a(r,V,rho,Pressao,h):\n",
    "    ac=[]\n",
    "    for i in range(len(r)):\n",
    "        ac.append(0)\n",
    "    \n",
    "\n",
    "    for i in range(len(r)):\n",
    "        for j in range(i+1,len(r)):\n",
    "            vij = V[i]-V[j]\n",
    "            dij = r[i]-r[j]\n",
    "            rhoij=rho[i]-rho[j]\n",
    "            visc_ij=vij*dij\n",
    "            aij = -m*((Pressao[i]/rho[i]**2)+(Pressao[j]/rho[j]**2))*Grad_Kern(dij,h)       \n",
    "            ac[i] += aij\n",
    "            ac[j] -= aij\n",
    "    return np.array(ac)\n"
   ]
  },
  {
   "cell_type": "code",
   "execution_count": 35,
   "metadata": {
    "id": "NL4Cml-lY7Hv"
   },
   "outputs": [],
   "source": [
    "Pressao=[]\n",
    "V=[]\n",
    "A=np.zeros(N)\n",
    "v_mhalf=np.zeros(N) #inicia vminus=0\n",
    "v_phalf=np.zeros(N) #inicia vplus=0\n",
    " #todas as velocidades iniciais iguais a 0\n",
    "pos=np.zeros(N) # inicia o vetor posição\n",
    "v_phalf=np.zeros(N)\n",
    "V=np.zeros(N) #v_phalf iniciado \n",
    " #inicia aceleração\n",
    "\n",
    "p0 = k*np.power(rho_0, gamma)\n",
    "\n",
    "    "
   ]
  },
  {
   "cell_type": "code",
   "execution_count": 36,
   "metadata": {
    "id": "RTApm66mZnqQ"
   },
   "outputs": [],
   "source": [
    "x=[]\n",
    "x2=[]\n",
    "size=1000\n",
    "size2=500\n",
    "binsize=3/size\n",
    "def posicao():\n",
    "  pos=np.linspace(-2,1,N) #coordenada x\n",
    "  return pos\n",
    "\n",
    "def p_barbosa():\n",
    "  for i in range(size2): #aqui gero um grid menor do que os dados iniciais, mais grosseiro\n",
    "    x2.append(i*2*binsize-3)\n",
    "    pos_barbosa=x2\n",
    "  return pos_barbosa\n"
   ]
  },
  {
   "cell_type": "code",
   "execution_count": 37,
   "metadata": {
    "id": "VhUbMDBLUpEE"
   },
   "outputs": [],
   "source": [
    "def atualiza_h(h,rho,m,V,r):\n",
    "    novo_h=np.zeros(N)\n",
    "    for i in range(len(r)):\n",
    "      for j in range(i+1,len(r)):\n",
    "            aga=min(h[i],h[j])\n",
    "            dij = r[i]-r[j]\n",
    "            vij= V[i]-V[j]\n",
    "            kij = m*(vij)*Grad_Kern(dij,aga)\n",
    "            nuevo_h= -(aga/rho[i])*kij\n",
    "            novo_h[i] += nuevo_h\n",
    "            novo_h[j] -= nuevo_h\n",
    "            \n",
    "    \n",
    "    return np.array(novo_h)\n",
    "  "
   ]
  },
  {
   "cell_type": "code",
   "execution_count": 38,
   "metadata": {},
   "outputs": [],
   "source": [
    "def rho_inicial(r,t,k,h,gamma,c_0):\n",
    "    rho=[]\n",
    "    dt=0.04\n",
    "    for i in range(len(r)):\n",
    "        if (r[i]>= -c_0*t*dt) and (r[i]<= 2*c_0*t*dt/(gamma -1)):\n",
    "            rho.append(dens(r[i], t*dt, gamma, c_0, k)*(5/N))\n",
    "        elif(r[i]<-c_0*t*dt):\n",
    "            rho.append(5)\n",
    "        elif(r[i]>2*c_0*t*dt/(gamma-1)):\n",
    "            rho.append(0)\n",
    "    return np.array(rho)"
   ]
  },
  {
   "cell_type": "code",
   "execution_count": 39,
   "metadata": {
    "id": "vto2TaesK10F"
   },
   "outputs": [],
   "source": [
    "temposalvos = [1,2, 4, 7, 12, 15, 19]\n",
    "T=21\n"
   ]
  },
  {
   "cell_type": "code",
   "execution_count": 40,
   "metadata": {},
   "outputs": [],
   "source": [
    "r = posicao()\n",
    "rb=p_barbosa()\n",
    "velosalvo=np.zeros((T,N))\n",
    "rhosalvo=np.zeros((T,N))\n",
    "rho = Densidade(r,h)\n",
    "rho_ini=rho_inicial(r,0.5,k,h,2,1)\n",
    "rsalvo=np.zeros((T,N))\n",
    "Pressao_ini= k*np.power(rho_ini,gamma)\n",
    "Pressao = k*np.power(rho,gamma)\n",
    "saveList(r,'r0.npy')\n",
    "saveList(V,'vs0.npy')\n"
   ]
  },
  {
   "cell_type": "code",
   "execution_count": 41,
   "metadata": {},
   "outputs": [
    {
     "name": "stdout",
     "output_type": "stream",
     "text": [
      "0.03162277660168379\n"
     ]
    },
    {
     "data": {
      "image/png": "[encoded data removed]",
      "text/plain": [
       "<Figure size 432x288 with 1 Axes>"
      ]
     },
     "metadata": {
      "needs_background": "light"
     },
     "output_type": "display_data"
    }
   ],
   "source": [
    "\n",
    "print(c_0/(gamma-1))\n",
    "xs=np.linspace(-2,1,N)\n",
    "plt.plot(r,rho_ini,\"c--\")\n",
    "a0 = np.arange(-c_0* 0.05*1, (2*c_0* 0.05*1/(gamma - 1)), 0.001)\n",
    "plt.plot(a0, 5*dens(a0, 0.05*1, gamma, c_0, k),color='green',  linewidth=1)\n",
    "plt.xlim(-1.5,1)\n",
    "plt.xlabel(\"R/L\")\n",
    "plt.ylabel(\"Densidade inicial t=0.5\")\n",
    "saveList(rho_ini,'rho_ini.npy')\n",
    "saveList(a0,'a0.npy')\n",
    "\n"
   ]
  },
  {
   "cell_type": "code",
   "execution_count": null,
   "metadata": {
    "colab": {
     "background_save": true,
     "base_uri": "https://localhost:8080/"
    },
    "id": "988tYf4UNCTJ",
    "outputId": "b4756e28-dd0e-4d91-f403-f6609f7ade6e"
   },
   "outputs": [
    {
     "name": "stderr",
     "output_type": "stream",
     "text": [
      "  0%|                                                                                           | 0/21 [00:00<?, ?it/s]"
     ]
    }
   ],
   "source": [
    "\n",
    "\n",
    "\n",
    "for t in tqdm(range(T)):\n",
    "    k1x=dt*V\n",
    "    k1xx=dt*(atualiza_a(r,V,rho,Pressao,h))\n",
    "    k2x=dt*(V+k1xx/2)\n",
    "    k2xx=dt*(atualiza_a(r+k1x/2,V+k1xx/2,rho,Pressao,h))\n",
    "    k3x=dt*(V+k2xx/2)\n",
    "    k3xx=dt*(atualiza_a(r+k2x/2,V+k2xx/2,rho,Pressao,h))\n",
    "    k4x=dt*(V+k3xx)\n",
    "    k4xx=dt*(atualiza_a(r+k3x,V+k3xx,rho,Pressao,h))\n",
    "\n",
    "    r_1 =r+(k1x+2*k2x+2*k3x+k4x)/6\n",
    "    V_1=V+(k1xx+2*k2xx+2*k3xx+k4xx)/6\n",
    "    rho = Densidade(r_1,h)\n",
    "    rhosalvo[t]=rho\n",
    "    Pressao = k*np.power(rho,2)\n",
    "    r=r_1\n",
    "    V=V_1\n",
    "    rhol=rho\n",
    "    rsalvo[t]=r\n",
    "    velosalvo[t]=V\n",
    "    if (t in temposalvos):\n",
    "          if(t == temposalvos[0]):\n",
    "            saveList(V,'vs1.npy')\n",
    "            saveList(r,'r1.npy')\n",
    "            rho1 = rhol\n",
    "          elif(t == temposalvos[1]):\n",
    "            saveList(V,'vs2.npy')\n",
    "            saveList(r,'r2.npy')\n",
    "            rho2 = rhol\n",
    "          elif(t == temposalvos[2]):\n",
    "            saveList(V,'vs3.npy')\n",
    "            saveList(r,'r3.npy')\n",
    "            rho3 = rhol\n",
    "          elif(t == temposalvos[3]):\n",
    "            saveList(V,'vs4.npy')\n",
    "            saveList(r,'r4.npy')\n",
    "            rho4 = rhol\n",
    "          elif(t == temposalvos[4]):\n",
    "            saveList(V,'vs5.npy')\n",
    "            saveList(r,'r5.npy')\n",
    "            rho5 = rhol\n",
    "          elif(t == temposalvos[5]):\n",
    "            saveList(V,'vs6.npy')\n",
    "            saveList(r,'r6.npy')\n",
    "            rho6 = rhol\n",
    "          elif(t == temposalvos[6]):\n",
    "            saveList(V,'vs7.npy')\n",
    "            saveList(r,'r7.npy')\n",
    "            rho6 = rhol\n",
    "r0 = loadList('r0.npy')\n",
    "r1 = loadList('r1.npy')\n",
    "r2 = loadList('r2.npy')\n",
    "r3 = loadList('r3.npy')\n",
    "r4 = loadList('r4.npy')\n",
    "r5 = loadList('r5.npy')\n",
    "r6 = loadList('r6.npy')\n",
    "r7 = loadList('r7.npy')\n",
    "vs0 = loadList('vs0.npy')\n",
    "vs1 = loadList('vs1.npy')\n",
    "vs2 = loadList('vs2.npy')\n",
    "vs3 = loadList('vs3.npy')\n",
    "vs4 = loadList('vs4.npy')\n",
    "vs5 = loadList('vs5.npy')\n",
    "vs6 = loadList('vs6.npy')\n",
    "vs7 = loadList('vs6.npy')"
   ]
  },
  {
   "cell_type": "code",
   "execution_count": null,
   "metadata": {
    "colab": {
     "background_save": true
    },
    "id": "PSA9G2HPxF-p"
   },
   "outputs": [],
   "source": [
    "dt=1\n",
    "a7 = np.arange(-1,0,0.001)\n",
    "a0 = np.arange(-c_0*temposalvos[0]*dt, (2*c_0*temposalvos[0]*dt/(gamma - 1)), 0.001)\n",
    "a1 = np.arange(-c_0*temposalvos[1]*dt, (2*c_0*temposalvos[1]*dt/(gamma - 1)), 0.001)\n",
    "a2 = np.arange(-c_0*temposalvos[2]*dt, (2*c_0*temposalvos[2]*dt/(gamma - 1)), 0.001)\n",
    "a3 = np.arange(-c_0*temposalvos[3]*dt, (2*c_0*temposalvos[3]*dt/(gamma - 1)), 0.001)\n",
    "a4 = np.arange(-c_0*temposalvos[4]*dt, (2*c_0*temposalvos[4]*dt/(gamma - 1)), 0.001)\n",
    "a5 = np.arange(-c_0*temposalvos[5]*dt, (2*c_0*temposalvos[5]*dt/(gamma - 1)), 0.001)\n",
    "a6 = np.arange(-c_0*temposalvos[6]*dt, (2*c_0*temposalvos[6]*dt/(gamma - 1)), 0.001)\n",
    "vetorum= np.ones((len(a7)))\n",
    "vetor=[a0,a1,a2,a3,a4,a5,a6]\n",
    "\n",
    "#plt.plot(a7, vetorum,  linewidth=1)\n",
    "#plt.plot(a0, dens(a0, temposalvos[0]*dt, gamma, c_0, k),  linewidth=1)\n",
    "#plt.plot(a1, dens(a1, temposalvos[1]*dt, gamma, c_0, k),  linewidth=1)\n",
    "#plt.plot(a2, dens(a2, temposalvos[2]*dt, gamma, c_0, k),  linewidth=1)\n",
    "#plt.plot(a3, dens(a3, temposalvos[3]*dt, gamma, c_0, k),  linewidth=1)\n",
    "#plt.plot(a4, dens(a4, temposalvos[4]*dt, gamma, c_0, k),  linewidth=1)\n",
    "#plt.plot(a5, dens(a5, temposalvos[5]*dt, gamma, c_0, k),  linewidth=1)\n",
    "#plt.plot(rsalvo[0],rho_ini/rho_ini[200],'--',markersize=0.8)\n",
    "#plt.plot(rsalvo[6],rhosalvo[6]/rho_ini[200],'--',markersize=0.8)\n",
    "#plt.plot(rsalvo[11],rhosalvo[11]/rho_ini[200],'--',markersize=0.8)\n",
    "#plt.plot(rsalvo[15],rhosalvo[15]/rho_ini[200],'--',markersize=0.8)\n",
    "#plt.plot(rsalvo[19],rhosalvo[19]/rho_ini[200],'--',markersize=0.8)\n",
    "#plt.plot(rsalvo[24],rhosalvo[24]/rho_ini[200],'--',markersize=0.8)\n",
    "#plt.plot(rsalvo[29],rhosalvo[29]/rho_ini[200],'--',markersize=0.8)\n",
    "#time=[1,7,12,16,20,25,30]\n",
    "#plt.legend(time)\n",
    "#plt.xlabel('R')\n",
    "#plt.ylabel('ρ/ρ0')\n",
    "#\n",
    "#\n",
    "#\n",
    "#plt.xlim(-0.5,1.1)\n",
    "#plt.title(' ρ/ρ0(x) -- '+str(N)+' Particles -- h= '+str(h)+ ' dt=0.04') \n",
    "#plt.show()"
   ]
  },
  {
   "cell_type": "code",
   "execution_count": null,
   "metadata": {
    "colab": {
     "background_save": true
    },
    "id": "vBAEU_pNy6UH",
    "outputId": "f1ebf089-8a2e-45e3-a2c1-6a5449e9c041"
   },
   "outputs": [],
   "source": [
    " dt=0.04\n",
    " #TEMPOS ERRADOS!!!\n",
    " c_0=1\n",
    " vetorzero= np.zeros((len(a7)))\n",
    " plt.plot(a7,vetorzero,linewidth=1)   \n",
    " plt.plot(a0, vels(a0, temposalvos[0]*dt, gamma, c_0, k), linewidth=1)\n",
    " plt.plot(a1, vels(a1, temposalvos[1]*dt, gamma, c_0, k), linewidth=1)\n",
    " plt.plot(a2, vels(a2, temposalvos[2]*dt, gamma, c_0, k), linewidth=1)\n",
    " plt.plot(a3, vels(a3, temposalvos[3]*dt, gamma, c_0, k), linewidth=1)\n",
    " plt.plot(a4, vels(a4, temposalvos[4]*dt, gamma, c_0, k), linewidth=1)\n",
    " plt.plot(a5, vels(a5, temposalvos[5]*dt, gamma, c_0, k), linewidth=1)\n",
    " plt.plot(rsalvo[0],(1/c_0)*velosalvo[0],'--',markersize=0.8)\n",
    " plt.plot(rsalvo[6],(1/c_0)*velosalvo[6],'--',markersize=0.8)\n",
    " plt.plot(rsalvo[11],(1/c_0)*velosalvo[11],'--',markersize=0.8)\n",
    " plt.plot(rsalvo[15],(1/c_0)*velosalvo[15],'--',markersize=0.8)\n",
    " plt.plot(rsalvo[19],(1/c_0)*velosalvo[19],'--',markersize=0.8)\n",
    " plt.plot(rsalvo[19],(1/c_0)*velosalvo[13],'--',markersize=0.8)\n",
    " plt.plot(rsalvo[19],(1/c_0)*velosalvo[19],'--',markersize=0.8)\n",
    " plt.xlim(-1,1)\n",
    " plt.ylim(0,2)\n",
    " time=[2, 4, 7, 12, 15, 19]\n",
    " plt.legend(time)\n",
    " plt.xlabel('R')\n",
    " plt.ylabel('v/c0')\n",
    " plt.title(' v/c0 -- '+str(N)+' Particles -- h=min(hi,hj) h_plt=0.05 '+ ' dt=0.04') \n",
    " plt.show()"
   ]
  },
  {
   "cell_type": "code",
   "execution_count": null,
   "metadata": {
    "colab": {
     "background_save": true
    },
    "id": "XuTLPoESN6Kq"
   },
   "outputs": [],
   "source": [
    "#import math\n",
    "##import random\n",
    "#import matplotlib.pyplot as plt\n",
    "# \n",
    "#for i in range(T):\n",
    "#  for j in range(6):\n",
    "#      if (i%5==0):\n",
    "#        plt.figure(1)\n",
    "#        plt.plot(rsalvo[i],rhosalvo[i]/rho_ini[200],markersize=0.8)\n",
    "#       \n",
    "#        plt.xlabel('R')\n",
    "#        plt.ylabel('ρ/ρ0')\n",
    "#        plt.ylim(0.0,1)\n",
    "#        plt.xlim(-0.5,1)\n",
    "#\n",
    "#for i in range(T):        \n",
    "#  if (i%4==0):\n",
    "#        plt.figure(2)      \n",
    "#        plt.plot(rsalvo[i],velosalvo[i],markersize=0.8)\n",
    "#        plt.xlabel('R')\n",
    "#        plt.ylabel('v/c0')\n",
    "#        plt.ylim(0,0.5)\n",
    "#        plt.xlim(-1,2.2)\n",
    "#        \n",
    "#        "
   ]
  },
  {
   "cell_type": "code",
   "execution_count": null,
   "metadata": {
    "colab": {
     "background_save": true
    },
    "id": "0VN_TI_PJ9st"
   },
   "outputs": [],
   "source": [
    "#fig, axs = plt.subplots(2, 1, sharex='col', sharey='row',\n",
    "#                        gridspec_kw={'hspace': 0, 'wspace': 0})\n",
    "#ax1, ax3 = axs\n",
    "#fig.suptitle('Simple Wave ')\n",
    "#for i in range(30):\n",
    "#      if (i%5==0):\n",
    "#        \n",
    "#        \n",
    "#        ax1.plot(rsalvo[i],rhosalvo[i]/rho_ini[200],color='red',markersize=0.8)\n",
    "#        plt.ylim(0,1)\n",
    "#        plt.xlim(0,2.2)\n",
    "#        plt.ylabel('ρ/ρ0')\n",
    "#for i in range(30):        \n",
    "#  if (i%5==0):    \n",
    "#        ax3.plot(rsalvo[i],velosalvo[i],color='red',markersize=0.8)\n",
    "#        plt.ylim(0,1)\n",
    "#        plt.xlim(0,2.2)\n",
    "#        plt.xlabel('R')\n",
    "#        plt.ylabel('v/c0')\n",
    "#\n",
    "#\n",
    "#for ax in axs.flat:\n",
    "#    ax.label_outer()"
   ]
  },
  {
   "cell_type": "code",
   "execution_count": null,
   "metadata": {
    "colab": {
     "background_save": true
    },
    "id": "FrDdYaE-_B7y"
   },
   "outputs": [],
   "source": [
    "rb=p_barbosa()\n",
    "rhob=np.zeros((T,N))\n",
    "for t in range(T):\n",
    "  for i in range(len(r)): #aqui eu pego o valor exato dos dados iniciais e coloco nos pontos do meu novo grid com uma normalização -\n",
    "      for j in range(len(rb)): # - que é a área de um círculo centrado no ponto com o raio igual ao h do smoothing\n",
    "          if(rb[j]==r[i]):\n",
    "              rhob[t][j]=(rhosalvo[t][i]/(2*h))"
   ]
  },
  {
   "cell_type": "code",
   "execution_count": null,
   "metadata": {
    "colab": {
     "background_save": true
    },
    "id": "McbLQTfmECV3",
    "outputId": "fb647845-6d11-4d9e-a986-f5deb2c7cb53"
   },
   "outputs": [],
   "source": [
    "#for i in range(len(r)): #aqui eu pego o valor exato dos dados iniciais e coloco nos pontos do meu novo grid com uma normalização -\n",
    "#    for j in range(len(rb)):\n",
    "#        if(rb[j]==rsalvo[i]):\n",
    "#\n",
    "print(rb)"
   ]
  },
  {
   "cell_type": "code",
   "execution_count": null,
   "metadata": {
    "colab": {
     "background_save": true
    },
    "id": "8U2Nj5VuN8cq",
    "outputId": "fcad7a9e-61f7-4869-9f0b-b1418ad35ee6"
   },
   "outputs": [],
   "source": [
    "print(rsalvo[0])"
   ]
  },
  {
   "cell_type": "code",
   "execution_count": null,
   "metadata": {
    "id": "gxSeMuy6kXmI"
   },
   "outputs": [],
   "source": [
    "xs=np.linspace(-2,2,N)\n",
    "h_plot=0.04\n",
    "velespaco=np.zeros((T,N))\n",
    "Pressao_1=np.zeros((T,N))\n",
    "rhos=np.zeros((T,N))\n",
    "for i in tqdm(range(T)):\n",
    "  for j in range(len(rhos[i])):\n",
    "    for k in range(len(rhosalvo[0])):\n",
    "      norma,dif_x=modulo_diferenca(rsalvo[i][k],xs[j])\n",
    "      rhos[i][j]=rhos[i][j]+m*kernel(dif_x,h_plot)\n",
    "      velespaco[i][j]+=(velosalvo[i][k]*m*kernel(norma,h_plot))/(rhosalvo[i][k])\n",
    "    \n",
    "      \n"
   ]
  },
  {
   "cell_type": "code",
   "execution_count": null,
   "metadata": {
    "colab": {
     "background_save": true
    },
    "id": "42UooU-vfJEf"
   },
   "outputs": [],
   "source": [
    "rhosss=np.zeros((6,1000))\n",
    "for t in range(6):\n",
    "         if(t == 0):\n",
    "           rhosss[t]= rhos[1]\n",
    "         elif(t == 1):\n",
    "           rhosss[t]= rhos[3]\n",
    "         elif(t == 2):\n",
    "           rhosss[t]= rhos[6]\n",
    "         elif(t == 3):\n",
    "           rhosss[t]= rhos[11]\n",
    "         elif(t == 4):\n",
    "           rhosss[t]= rhos[14]\n",
    "         elif(t == 5):\n",
    "           rhosss[t]= rhos[18]\n",
    "           \n",
    "saveList(rhosss,'rho fixo.npy')\n",
    "\n",
    "\n",
    "           "
   ]
  },
  {
   "cell_type": "code",
   "execution_count": null,
   "metadata": {
    "colab": {
     "background_save": true
    },
    "id": "R7R0jVUkVkBy",
    "outputId": "58ed46d2-645f-4268-fabe-d893706099b0"
   },
   "outputs": [],
   "source": [
    "for i in range(T):\n",
    "  plt.plot(xs,velespaco[i]) \n",
    "  plt.xlim(-1.5,1.5) "
   ]
  },
  {
   "cell_type": "code",
   "execution_count": null,
   "metadata": {
    "colab": {
     "background_save": true
    },
    "id": "WKWP7JV-LYXD",
    "outputId": "215e6b22-1b5e-47bb-c114-b4eceb0e44e0"
   },
   "outputs": [],
   "source": [
    "for i in range(T):\n",
    "  plt.plot(xs,rhos[i])\n",
    "  plt.xlim(-1.5,1,5)\n"
   ]
  },
  {
   "cell_type": "code",
   "execution_count": null,
   "metadata": {
    "colab": {
     "background_save": true
    },
    "id": "WL2p_DTidw4t"
   },
   "outputs": [],
   "source": []
  },
  {
   "cell_type": "code",
   "execution_count": null,
   "metadata": {
    "colab": {
     "background_save": true
    },
    "id": "K4HKkt0OC7QZ"
   },
   "outputs": [],
   "source": [
    "a0 = np.arange(-c_0*temposalvos[0]*dt, (2*c_0*temposalvos[0]*dt/(gamma - 1)), 0.001)\n",
    "a1 = np.arange(-c_0*temposalvos[1]*dt, (2*c_0*temposalvos[1]*dt/(gamma - 1)), 0.001)\n",
    "a2 = np.arange(-c_0*temposalvos[2]*dt, (2*c_0*temposalvos[2]*dt/(gamma - 1)), 0.001)\n",
    "a3 = np.arange(-c_0*temposalvos[3]*dt, (2*c_0*temposalvos[3]*dt/(gamma - 1)), 0.001)\n",
    "a4 = np.arange(-c_0*temposalvos[4]*dt, (2*c_0*temposalvos[4]*dt/(gamma - 1)), 0.001)\n",
    "a5 = np.arange(-c_0*temposalvos[5]*dt, (2*c_0*temposalvos[5]*dt/(gamma - 1)), 0.001)\n",
    "a6 = np.arange(-c_0*temposalvos[6]*dt, (2*c_0*temposalvos[6]*dt/(gamma - 1)), 0.001)\n",
    "vetores=[a0,a1,a2,a3,a4,a5,a6]"
   ]
  },
  {
   "cell_type": "code",
   "execution_count": null,
   "metadata": {
    "colab": {
     "background_save": true
    },
    "id": "Dh0eQYjqo2-X"
   },
   "outputs": [],
   "source": [
    "#CONSTANTES\n",
    "M=15\n",
    "k=0.1\n",
    "gamma=2\n",
    "dt=0.04\n",
    "nu=1\n",
    "n=1\n",
    "N=1000\n",
    "m=M/N\n",
    "k=0.1\n",
    "rho_0=m/l\n",
    "c_0= np.sqrt(gamma*k*np.power(rho_0, (gamma - 1)))\n",
    "\n",
    "constante=(1)/(6*h)"
   ]
  },
  {
   "cell_type": "code",
   "execution_count": null,
   "metadata": {
    "colab": {
     "background_save": true
    },
    "id": "-9fXvhQm4sM8"
   },
   "outputs": [],
   "source": [
    "velosss=np.zeros((6,1000))\n",
    "for t in range(6):\n",
    "         if(t == 0):\n",
    "           velosss[t]= velespaco[1]\n",
    "         elif(t == 1):\n",
    "           velosss[t]= velespaco[3]\n",
    "         elif(t == 2):\n",
    "           velosss[t]= velespaco[6]\n",
    "         elif(t == 3):\n",
    "           velosss[t]= velespaco[11]\n",
    "         elif(t == 4):\n",
    "           velosss[t]= velespaco[14]\n",
    "         elif(t == 5):\n",
    "           velosss[t]= velespaco[18]\n",
    "           \n",
    "saveList(velosss,'velocidade fix.npy')"
   ]
  },
  {
   "cell_type": "code",
   "execution_count": null,
   "metadata": {
    "colab": {
     "background_save": true
    },
    "id": "9_XfRE0z0myp",
    "outputId": "11f08b5c-70b6-408a-d7ef-14038a4ce19e"
   },
   "outputs": [],
   "source": [
    "dt=0.04\n",
    "tabela=np.load('/content/velocidade fix (1).npy')\n",
    "tabela1=np.load('/content/velocidade fix (1) (1).npy')\n",
    "tabela2=np.load('/content/velocidade.npy')\n",
    "c_0=1\n",
    "plt.figure(figsize=(10,7.5))\n",
    "#plt.plot(a0, vels(a0, temposalvos[0]*dt, gamma, c_0, k), linewidth=1)\n",
    "plt.plot(a1, vels(a1, temposalvos[1]*dt, gamma, c_0, k),color='blue', linewidth=1)\n",
    "plt.plot(a2, vels(a2, temposalvos[2]*dt, gamma, c_0, k),color='blue', linewidth=1)\n",
    "plt.plot(a3, vels(a3, temposalvos[3]*dt, gamma, c_0, k),color='blue', linewidth=1)\n",
    "plt.plot(a4, vels(a4, temposalvos[4]*dt, gamma, c_0, k),color='blue', linewidth=1)\n",
    "plt.plot(a5, vels(a5, temposalvos[5]*dt, gamma, c_0, k),color='blue', linewidth=1)\n",
    "#plt.plot(a6, vels(a6, temposalvos[6]*dt, gamma, c_0, k),color='purple', linewidth=1)\n",
    "#plt.plot(xs,(1/c_0)*velespaco[0],'--',markersize=0.8)\n",
    "#plt.plot(xs,(1/c_0)*velespaco[3],'--',color='green',markersize=0.8)\n",
    "#plt.plot(xs,(1/c_0)*velespaco[6],'--',color='black',markersize=0.8)\n",
    "#plt.plot(xs,(1/c_0)*velespaco[11],'--',color='orange',markersize=0.8)\n",
    "#plt.plot(xs,(1/c_0)*velespaco[14],'--',color='yellow',markersize=0.8)\n",
    "#plt.plot(xs,(1/c_0)*velespaco[18],'--',color='purple',markersize=0.8)\n",
    "for i in range(5):  \n",
    "  plt.plot((xss-0.01),tabela[i]*0.99,'c--')\n",
    "for i in range(5):  \n",
    "  plt.plot(xss,tabela1[i],'r--')\n",
    "for i in range(5):  \n",
    "  plt.plot(xsss,tabela2[i],'g--')\n",
    "plt.xlim(-0.7,1)\n",
    "plt.ylim(0,1.8)\n",
    "time=[2, 4, 7, 12, 15]\n",
    "\n",
    "plt.xlabel('R/l')\n",
    "plt.ylabel('v/c0')\n",
    "plt.title(' v/c0 -- ''Vermelho (Ghost Particle)  -- Ciano (Viscosidade) -- Verde(hvariável 6000 partículas) --  h_plt=0.05 '+ ' dt=0.04') \n",
    "plt.show()"
   ]
  },
  {
   "cell_type": "code",
   "execution_count": null,
   "metadata": {
    "id": "RacXzRpE3s-K"
   },
   "outputs": [],
   "source": [
    "#plt.figure(1)\n",
    "#plt.plot(a0, vels(a0, temposalvos[0]*dt, gamma, c_0, k), linewidth=1)\n",
    "#plt.plot(xs,(1/c_0)*velespaco[0],'--',markersize=0.8)\n",
    "#plt.xlabel('R/L')\n",
    "#plt.ylabel('v/c0')\n",
    "#plt.xlim(-0.5,0.8)\n",
    "plt.figure(1)\n",
    "plt.figure(figsize=(20,10))\n",
    "plt.plot(a1, vels(a1, temposalvos[1]*dt, gamma, c_0, k),color='red' ,linewidth=1)\n",
    "plt.plot(xs,(1/c_0)*velespaco[1],'--',markersize=0.8,color='red')\n",
    "plt.xlabel('R/L')\n",
    "plt.ylabel('v/c0')\n",
    "plt.xlim(-0.5,0.8)\n",
    "plt.figure(2)\n",
    "plt.figure(figsize=(20,10))\n",
    "plt.plot(a2, vels(a2, temposalvos[2]*dt, gamma, c_0, k), linewidth=1,color='blue')\n",
    "plt.plot(xs,(1/c_0)*velespaco[3],'--',markersize=0.8,color='blue')\n",
    "plt.xlabel('R/L')\n",
    "plt.ylabel('v/c0')\n",
    "plt.xlim(-0.5,0.8)\n",
    "plt.figure(3)\n",
    "plt.figure(figsize=(20,10))\n",
    "plt.plot(a3, vels(a3, temposalvos[3]*dt, gamma, c_0, k), linewidth=1,color='pink')\n",
    "plt.plot(xs,(1/c_0)*velespaco[6],'--',markersize=0.8,color='pink')\n",
    "plt.xlabel('R/L')\n",
    "plt.ylabel('v/c0')\n",
    "plt.xlim(-0.5,0.8)\n",
    "plt.figure(4)\n",
    "plt.figure(figsize=(20,10))\n",
    "plt.plot(a4, vels(a4, temposalvos[4]*dt, gamma, c_0, k), linewidth=1,color='green')\n",
    "plt.plot(xs,(1/c_0)*velespaco[11],'--',markersize=0.8,color='green')\n",
    "plt.xlabel('R/L')\n",
    "plt.ylabel('v/c0')\n",
    "plt.xlim(-0.5,0.8)\n",
    "plt.figure(5)\n",
    "plt.figure(figsize=(20,10))\n",
    "plt.plot(a5, vels(a5, temposalvos[5]*dt, gamma, c_0, k), linewidth=1,color='yellow')\n",
    "plt.plot(xs,(1/c_0)*velespaco[14],'--',markersize=0.8,color='yellow')\n",
    "plt.xlabel('R/L')\n",
    "plt.ylabel('v/c0')\n",
    "plt.xlim(-1,1.2)\n",
    "plt.figure(6)\n",
    "plt.figure(figsize=(20,10))\n",
    "plt.plot(a6, vels(a6, temposalvos[6]*dt, gamma, c_0, k), linewidth=1,color='black')\n",
    "plt.plot(xs,(1/c_0)*velespaco[18],'--',markersize=0.8,color='black')\n",
    "plt.xlabel('R/L')\n",
    "plt.ylabel('v/c0')\n",
    "plt.xlim(-1,1.4)"
   ]
  },
  {
   "cell_type": "code",
   "execution_count": null,
   "metadata": {
    "id": "6LXDSAeBrAqY"
   },
   "outputs": [],
   "source": [
    "dt=0.04\n",
    "tabela=np.load('/content/rho100.npy')\n",
    "tabela1=np.load('/content/rho variavel 10000.npy')\n",
    "tabela2=np.load('/content/rho fix 11a (1).npy')\n",
    "plt.figure(figsize=(10,7.5))\n",
    "c_0=1\n",
    "xs=np.linspace(-2,2,3000)\n",
    "xss=np.linspace(-2,2,1000)\n",
    "xsss=np.linspace(-2,2,10000)\n",
    "a0 = np.arange(-c_0*temposalvos[0]*dt, (2*c_0*temposalvos[0]*dt/(gamma - 1)), 0.001)\n",
    "a1 = np.linspace(-c_0*temposalvos[1]*dt, (2*c_0*temposalvos[1]*dt/(gamma - 1)), 100)\n",
    "a2 = np.arange(-c_0*temposalvos[2]*dt, (2*c_0*temposalvos[2]*dt/(gamma - 1)), 0.001)\n",
    "a3 = np.arange(-c_0*temposalvos[3]*dt, (2*c_0*temposalvos[3]*dt/(gamma - 1)), 0.001)\n",
    "a4 = np.arange(-c_0*temposalvos[4]*dt, (2*c_0*temposalvos[4]*dt/(gamma - 1)), 0.001)\n",
    "a5 = np.arange(-c_0*temposalvos[5]*dt, (2*c_0*temposalvos[5]*dt/(gamma - 1)), 0.001)\n",
    "a6 = np.arange(-c_0*temposalvos[6]*dt, (2*c_0*temposalvos[6]*dt/(gamma - 1)), 0.001)\n",
    "\n",
    "vetor=[a0,a1,a2,a3,a4,a5,a6]\n",
    "\n",
    "\n",
    "#plt.plot(a0, dens(a0, temposalvos[0]*dt, gamma, c_0, k),color='green',  linewidth=1)\n",
    "plt.plot(a1, dens(a1, temposalvos[1]*dt, gamma, c_0, k)/N,color='blue', linewidth=1)\n",
    "plt.plot(a2, dens(a2, temposalvos[2]*dt, gamma, c_0, k)/N,color='blue',  linewidth=1)\n",
    "plt.plot(a3, dens(a3, temposalvos[3]*dt, gamma, c_0, k)/N,color='blue',  linewidth=1)\n",
    "plt.plot(a4, dens(a4, temposalvos[4]*dt, gamma, c_0, k)/N,color='blue',  linewidth=1)\n",
    "plt.plot(a5, dens(a5, temposalvos[5]*dt, gamma, c_0, k)/N,color='blue',  linewidth=1)\n",
    "#plt.plot(a6, dens(a6, temposalvos[6]*dt, gamma, c_0, k)/N,color='purple',  linewidth=1)\n",
    "\n",
    "#plt.plot(xs,rhos[0]/rhos[0][500],'--',markersize=0.8,color='green')\n",
    "#plt.plot(xs,rhos[1]/rhos[0][300],'--',markersize=0.8,color='blue')\n",
    "#plt.plot(xs,rhos[3]/rhos[0][300],'--',markersize=0.8,color='green')\n",
    "#plt.plot(xs,rhos[6]/rhos[0][300],'--',markersize=0.8,color='black')\n",
    "#plt.plot(xs,rhos[11]/rhos[0][300],'--',markersize=0.8,color='orange')\n",
    "#plt.plot(xs,rhos[14]/rhos[0][300],'--',markersize=0.8,color='yellow')\n",
    "#plt.plot(xs,rhos[18]/rhos[0][300],'--',markersize=0.8,color='purple')\n",
    "\n",
    "\n",
    "plt.plot(xss,tabela2[0]/5,'c--')\n",
    "plt.plot(xss,tabela2[1]/5,'c--')\n",
    "plt.plot(xss,tabela2[2]/5,'c--')\n",
    "plt.plot(xss,tabela2[3]/5,'c--')\n",
    "plt.plot(xss,tabela2[4]/5,'c--')#3000\n",
    "#plt.plot(xs,tabela[5]/5,'r--')\n",
    "plt.plot(xsss,tabela1[0]/5,'g--')\n",
    "plt.plot(xsss,tabela1[1]/5,'g--')\n",
    "plt.plot(xsss,tabela1[2]/5,'g--')\n",
    "plt.plot(xsss,tabela1[3]/5,'g--')\n",
    "plt.plot(xsss,tabela1[4]/5,'g--')#10000\n",
    "#plt.plot(xs,tabela[5]/5,'r--')\n",
    "plt.plot(xss,tabela[0]/5,'r--')\n",
    "plt.plot(xss,tabela[1]/5,'r--')\n",
    "plt.plot(xss,tabela[2]/5,'r--')\n",
    "plt.plot(xss,tabela[3]/5,'r--')\n",
    "plt.plot(xss,tabela[4]/5,'r--')#1000\n",
    "#plt.plot(xs,tabela[5]/5,'r--')\n",
    "\n",
    "time=[2, 4, 7, 12, 15]\n",
    "\n",
    "plt.xlabel('R/L')\n",
    "plt.ylabel('ρ/ρ0')\n",
    "\n",
    "\n",
    "\n",
    "plt.xlim(-0.8,1.2)\n",
    "plt.title(' ρ/ρ0(x) -- ''Vermelho (Ghost Particle)  -- Ciano (Viscosidade) -- Verde(hvariável 6000 particulas)  h_plt=0.05 '+ ' dt=0.04') \n",
    "plt.show()"
   ]
  },
  {
   "cell_type": "code",
   "execution_count": null,
   "metadata": {
    "id": "mxwitnAt2RqO"
   },
   "outputs": [],
   "source": []
  },
  {
   "cell_type": "code",
   "execution_count": null,
   "metadata": {
    "id": "T7NO54i2vfR6"
   },
   "outputs": [],
   "source": [
    "#denss=[]\n",
    "#zeros=np.zeros(1000)\n",
    "#vetor1=np.zeros(841)\n",
    "#vetor=np.zeros(841)\n",
    "#vetor2=np.zeros(1000)\n",
    "#denss=dens(a3, temposalvos[3]*dt, gamma, c_0, k)/N\n",
    "#for i in range(1000):\n",
    "#  vetor2[i]=rhos[1][i]/5-tabela[1][i]/5\n",
    "#for i in range(841):\n",
    "#  vetor[i]=(denss[i]-rhos[6][i]/5)\n",
    "#  vetor1[i]=(denss[i]-tabela[1][i]/5)\n",
    "#  \n",
    "#\n",
    "##plt.plot(a1,vetor)\n",
    "##plt.plot(a1,vetor1)\n",
    "##plt.plot(a1,dens(a1, temposalvos[1]*dt, gamma, c_0, k)/N)\n",
    "#plt.plot(a3, vetor)\n",
    "#plt.plot(xs,zeros,'r--')\n",
    "##plt.xlim(-0.08,0.16)\n",
    "##plt.ylim(-0.4,0.2)\n",
    "#"
   ]
  },
  {
   "cell_type": "code",
   "execution_count": null,
   "metadata": {
    "id": "mSxbxGJL_i84"
   },
   "outputs": [],
   "source": [
    "dt=0.04\n",
    "tabela=np.load('/content/rho fix 11a.npy')\n",
    "plt.figure(figsize=(20,10))\n",
    "c_0=1\n",
    "a0 = np.arange(-c_0*temposalvos[0]*dt, (2*c_0*temposalvos[0]*dt/(gamma - 1)), 0.001)\n",
    "a1 = np.arange(-c_0*temposalvos[1]*dt, (2*c_0*temposalvos[1]*dt/(gamma - 1)), 0.001)\n",
    "a2 = np.arange(-c_0*temposalvos[2]*dt, (2*c_0*temposalvos[2]*dt/(gamma - 1)), 0.001)\n",
    "a3 = np.arange(-c_0*temposalvos[3]*dt, (2*c_0*temposalvos[3]*dt/(gamma - 1)), 0.001)\n",
    "a4 = np.arange(-c_0*temposalvos[4]*dt, (2*c_0*temposalvos[4]*dt/(gamma - 1)), 0.001)\n",
    "a5 = np.arange(-c_0*temposalvos[5]*dt, (2*c_0*temposalvos[5]*dt/(gamma - 1)), 0.001)\n",
    "a6 = np.arange(-c_0*temposalvos[6]*dt, (2*c_0*temposalvos[6]*dt/(gamma - 1)), 0.001)\n",
    "\n",
    "vetor=[a0,a1,a2,a3,a4,a5,a6]\n",
    "\n",
    "\n",
    "#plt.plot(a0, dens(a0, temposalvos[0]*dt, gamma, c_0, k),color='green',  linewidth=1)\n",
    "plt.plot(a1, dens(a1, temposalvos[1]*dt, gamma, c_0, k)/N,color='blue', linewidth=1)\n",
    "plt.plot(a2, dens(a2, temposalvos[2]*dt, gamma, c_0, k)/N,color='pink',  linewidth=1)\n",
    "plt.plot(a3, dens(a3, temposalvos[3]*dt, gamma, c_0, k)/N,color='black',  linewidth=1)\n",
    "plt.plot(a4, dens(a4, temposalvos[4]*dt, gamma, c_0, k)/N,color='orange',  linewidth=1)\n",
    "plt.plot(a5, dens(a5, temposalvos[5]*dt, gamma, c_0, k)/N,color='yellow',  linewidth=1)\n",
    "plt.plot(a6, dens(a6, temposalvos[6]*dt, gamma, c_0, k)/N,color='purple',  linewidth=1)\n",
    "\n",
    "#plt.plot(xs,rhos[0]/rhos[0][500],'--',markersize=0.8,color='green')\n",
    "plt.plot(xs,rhos[1]/rhos[0][300],'--',markersize=0.8,color='blue')\n",
    "plt.plot(xs,rhos[3]/rhos[0][300],'--',markersize=0.8,color='pink')\n",
    "plt.plot(xs,rhos[6]/rhos[0][300],'--',markersize=0.8,color='black')\n",
    "plt.plot(xs,rhos[11]/rhos[0][300],'--',markersize=0.8,color='orange')\n",
    "plt.plot(xs,rhos[14]/rhos[0][300],'--',markersize=0.8,color='yellow')\n",
    "plt.plot(xs,rhos[18]/rhos[0][300],'--',markersize=0.8,color='purple')\n",
    "\n",
    "for i in range(6):\n",
    "  plt.plot(xs,tabela[i]/5,'c-')\n",
    "  \n",
    "\n",
    "time=[1, 4, 7, 12, 15, 19]\n",
    "#legend1(time)\n",
    "plt.xlabel('R/L')\n",
    "plt.ylabel('ρ/ρ0')\n",
    "\n",
    "\n",
    "\n",
    "plt.xlim(-1,1.5)\n",
    "plt.title(' ρ/ρ0(x) -- '+str(N)+' Particles -- h_plt=0.05 '+ ' dt=0.04') \n",
    "plt.show()"
   ]
  },
  {
   "cell_type": "code",
   "execution_count": null,
   "metadata": {
    "id": "mLDBVGaEt5Ld"
   },
   "outputs": [],
   "source": [
    "dt=0.04\n",
    "c_0=1\n",
    "a7 = np.arange(-1,0,0.001)\n",
    "a0 = np.arange(-c_0*temposalvos[0]*dt, (2*c_0*temposalvos[0]*dt/(gamma - 1)), 0.001)\n",
    "a1 = np.arange(-c_0*temposalvos[1]*dt, (2*c_0*temposalvos[1]*dt/(gamma - 1)), 0.001)\n",
    "a2 = np.arange(-c_0*temposalvos[2]*dt, (2*c_0*temposalvos[2]*dt/(gamma - 1)), 0.001)\n",
    "a3 = np.arange(-c_0*temposalvos[3]*dt, (2*c_0*temposalvos[3]*dt/(gamma - 1)), 0.001)\n",
    "a4 = np.arange(-c_0*temposalvos[4]*dt, (2*c_0*temposalvos[4]*dt/(gamma - 1)), 0.001)\n",
    "a5 = np.arange(-c_0*temposalvos[5]*dt, (2*c_0*temposalvos[5]*dt/(gamma - 1)), 0.001)\n",
    "vetorum= np.ones((len(a7)))\n",
    "vetor=[a0,a1,a2,a3,a4,a5]\n",
    "plt.figure(3)\n",
    "plt.figure(figsize=(20,10))\n",
    "plt.plot(a1, dens(a1, temposalvos[1]*dt, gamma, c_0, k)/N,color='blue', linewidth=1)\n",
    "plt.plot(xs,rhos[1]/rhos[0][300],'--',markersize=0.8,color='blue')\n",
    "plt.xlabel('R/L')\n",
    "plt.ylabel('ρ/ρ0')\n",
    "plt.xlim(-0.5,0.8)\n",
    "plt.figure(4)\n",
    "plt.figure(figsize=(20,10))\n",
    "plt.plot(a2, dens(a2, temposalvos[2]*dt, gamma, c_0, k)/N,color='pink',  linewidth=1)\n",
    "plt.plot(xs,rhos[3]/rhos[0][300],'--',markersize=0.8,color='pink')\n",
    "plt.xlabel('R/L')\n",
    "plt.ylabel('ρ/ρ0')\n",
    "plt.xlim(-0.5,0.8)\n",
    "plt.figure(5)\n",
    "plt.figure(figsize=(20,10))\n",
    "plt.plot(a3, dens(a3, temposalvos[3]*dt, gamma, c_0, k)/N,color='black',  linewidth=1)\n",
    "plt.plot(xs,rhos[6]/rhos[0][300],'--',markersize=0.8,color='black')\n",
    "plt.xlabel('R/L')\n",
    "plt.ylabel('ρ/ρ0')\n",
    "plt.xlim(-0.5,0.8)\n",
    "plt.figure(6)\n",
    "plt.figure(figsize=(20,10))\n",
    "plt.plot(a4, dens(a4, temposalvos[4]*dt, gamma, c_0, k)/N,color='orange',  linewidth=1)\n",
    "plt.plot(xs,rhos[11]/rhos[0][300],'--',markersize=0.8,color='orange')\n",
    "plt.xlabel('R/L')\n",
    "plt.ylabel('ρ/ρ0')\n",
    "plt.xlim(-1,1)\n",
    "plt.figure(7)\n",
    "plt.figure(figsize=(20,10))\n",
    "plt.plot(a5, dens(a5, temposalvos[5]*dt, gamma, c_0, k)/N,color='yellow',  linewidth=1)\n",
    "plt.plot(xs,rhos[14]/rhos[0][300],'--',markersize=0.8,color='yellow')\n",
    "plt.xlabel('R/L')\n",
    "plt.ylabel('ρ/ρ0')\n",
    "plt.xlim(-1,1.2)\n",
    "plt.figure(8)\n",
    "plt.figure(figsize=(20,10))\n",
    "plt.plot(a6, dens(a6, temposalvos[6]*dt, gamma, c_0, k)/N,color='red',  linewidth=1)\n",
    "plt.plot(xs,rhos[18]/rhos[0][300],'--',markersize=0.8,color='red')\n",
    "plt.xlabel('R/L')\n",
    "plt.ylabel('ρ/ρ0')\n",
    "plt.xlim(-1,1.4)\n",
    "plt.show()"
   ]
  },
  {
   "cell_type": "code",
   "execution_count": null,
   "metadata": {
    "id": "Ckgz44O5Fpva"
   },
   "outputs": [],
   "source": [
    "#posicões de cada particula em cada tempo\n",
    "posis = np.array([[0,100],[40,50]]).T"
   ]
  },
  {
   "cell_type": "code",
   "execution_count": null,
   "metadata": {
    "id": "wy8CzHLGs-W6"
   },
   "outputs": [],
   "source": [
    "# uma grade para cada partícula em cada instante de tempo\n",
    "\n",
    "grid = np.array([np.linspace(    0,99) for _ in range(posis.shape[0])])\n",
    "grid = np.array([grid for _ in range(posis.shape[1])])"
   ]
  },
  {
   "cell_type": "code",
   "execution_count": null,
   "metadata": {
    "id": "w1Lb5s3IOSHp"
   },
   "outputs": [],
   "source": [
    "# distância de cada ponta da grade para cada particula em todo instante de tempo\n",
    "dist = posis-grid.T"
   ]
  },
  {
   "cell_type": "code",
   "execution_count": null,
   "metadata": {
    "id": "LbTBbwE5EwXb"
   },
   "outputs": [],
   "source": [
    "# implementar calculo do rho\n",
    "rho_pp_pt_pg = (1/(dist)**2)"
   ]
  },
  {
   "cell_type": "code",
   "execution_count": null,
   "metadata": {
    "id": "x6oUEie2W-mE"
   },
   "outputs": [],
   "source": [
    "rho_pt_pg = rho_pp_pt_pg.sum(axis=1)"
   ]
  },
  {
   "cell_type": "code",
   "execution_count": null,
   "metadata": {
    "id": "NJZNPa8WF_as"
   },
   "outputs": [],
   "source": [
    "import matplotlib.pyplot as plt\n"
   ]
  },
  {
   "cell_type": "code",
   "execution_count": null,
   "metadata": {
    "id": "PaZsWfvrIkNa"
   },
   "outputs": [],
   "source": [
    "plt.plot(rho_pt_pg)"
   ]
  },
  {
   "cell_type": "code",
   "execution_count": null,
   "metadata": {
    "id": "IqHHi6OCVJvR"
   },
   "outputs": [],
   "source": [
    "y=np.zeros(N)\n",
    "def plot(xs):\n",
    "  for i in range(N):\n",
    "    if (xs[i]>=0):\n",
    "      y[i]=0\n",
    "    else:\n",
    "      y[i]=5\n",
    "  return np.array(y)\n",
    "plt.plot(xs,rhos[0])\n",
    "legendas=(['SPH','Analítico'])\n",
    "plt.plot(xs,plot(xs),'--')\n",
    "plt.xlabel('r')\n",
    "plt.ylabel('rho')\n",
    "plt.title('Diferença das condições iniciais')\n",
    "plt.legend(legendas)\n",
    "print(rhos[0])\n",
    "plt.ylim(3,5.1)\n",
    "plt.xlim(-0.5,0.5)"
   ]
  }
 ],
 "metadata": {
  "colab": {
   "collapsed_sections": [],
   "name": "Cópia de Cópia h fixo sem visco",
   "provenance": []
  },
  "kernelspec": {
   "display_name": "Python 3",
   "language": "python",
   "name": "python3"
  },
  "language_info": {
   "codemirror_mode": {
    "name": "ipython",
    "version": 3
   },
   "file_extension": ".py",
   "mimetype": "text/x-python",
   "name": "python",
   "nbconvert_exporter": "python",
   "pygments_lexer": "ipython3",
   "version": "3.7.6"
  }
 },
 "nbformat": 4,
 "nbformat_minor": 1
}
